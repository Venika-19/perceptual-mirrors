{
  "cells": [
    {
      "cell_type": "markdown",
      "metadata": {
        "id": "FRVtzAq2A5wX"
      },
      "source": [
        "# Imports"
      ]
    },
    {
      "cell_type": "code",
      "execution_count": null,
      "metadata": {
        "id": "4rZx9ckwNIa1"
      },
      "outputs": [],
      "source": [
        "import torch\n",
        "import torchvision\n",
        "import torchvision.models as models\n",
        "import torchvision.transforms as transforms\n",
        "from torchvision.datasets import ImageFolder\n",
        "from torch.utils.data import DataLoader\n",
        "from PIL import Image\n",
        "import os\n",
        "import numpy as np\n",
        "from scipy.io import loadmat\n",
        "import cv2\n",
        "\n",
        "# from extract_features import extract_features\n",
        "# from check_webers_law import check_webers_law\n",
        "# from layerwise_mi_figures import layerwise_mi_figures\n"
      ]
    },
    {
      "cell_type": "code",
      "execution_count": null,
      "metadata": {
        "colab": {
          "base_uri": "https://localhost:8080/"
        },
        "id": "uAoEW28IMSV6",
        "outputId": "919f9e09-abcb-4425-8c5a-53abc6bf111f"
      },
      "outputs": [
        {
          "name": "stdout",
          "output_type": "stream",
          "text": [
            "GPU is not available, using CPU instead\n"
          ]
        }
      ],
      "source": [
        "import torch\n",
        "\n",
        "# Check if GPU is available\n",
        "if torch.cuda.is_available():\n",
        "    device = torch.device(\"cuda\")\n",
        "    print(\"GPU is available\")\n",
        "else:\n",
        "    device = torch.device(\"cpu\")\n",
        "    print(\"GPU is not available, using CPU instead\")"
      ]
    },
    {
      "cell_type": "markdown",
      "metadata": {
        "id": "4pZ2Q7LDBRRp"
      },
      "source": [
        "# Models"
      ]
    },
    {
      "cell_type": "code",
      "execution_count": null,
      "metadata": {
        "colab": {
          "base_uri": "https://localhost:8080/"
        },
        "id": "VVg382IzNIa-",
        "outputId": "d4e072fa-33fa-424a-a2c2-793cdfda847e"
      },
      "outputs": [
        {
          "name": "stderr",
          "output_type": "stream",
          "text": [
            "/usr/local/lib/python3.10/dist-packages/torchvision/models/_utils.py:208: UserWarning: The parameter 'pretrained' is deprecated since 0.13 and may be removed in the future, please use 'weights' instead.\n",
            "  warnings.warn(\n",
            "/usr/local/lib/python3.10/dist-packages/torchvision/models/_utils.py:223: UserWarning: Arguments other than a weight enum or `None` for 'weights' are deprecated since 0.13 and may be removed in the future. The current behavior is equivalent to passing `weights=VGG16_Weights.IMAGENET1K_V1`. You can also use `weights=VGG16_Weights.DEFAULT` to get the most up-to-date weights.\n",
            "  warnings.warn(msg)\n"
          ]
        }
      ],
      "source": [
        "# Load pre-trained VGG16 model\n",
        "vgg16 = models.vgg16(pretrained=True)"
      ]
    },
    {
      "cell_type": "code",
      "execution_count": null,
      "metadata": {
        "colab": {
          "base_uri": "https://localhost:8080/"
        },
        "id": "BP3kRjz-NIa-",
        "outputId": "178a9b09-948f-4c70-e07d-333a5d9b5b45"
      },
      "outputs": [
        {
          "name": "stderr",
          "output_type": "stream",
          "text": [
            "/usr/local/lib/python3.10/dist-packages/torchvision/models/_utils.py:223: UserWarning: Arguments other than a weight enum or `None` for 'weights' are deprecated since 0.13 and may be removed in the future. The current behavior is equivalent to passing `weights=None`.\n",
            "  warnings.warn(msg)\n"
          ]
        },
        {
          "data": {
            "text/plain": [
              "VGG(\n",
              "  (features): Sequential(\n",
              "    (0): Conv2d(3, 64, kernel_size=(3, 3), stride=(1, 1), padding=(1, 1))\n",
              "    (1): ReLU(inplace=True)\n",
              "    (2): Conv2d(64, 64, kernel_size=(3, 3), stride=(1, 1), padding=(1, 1))\n",
              "    (3): ReLU(inplace=True)\n",
              "    (4): MaxPool2d(kernel_size=2, stride=2, padding=0, dilation=1, ceil_mode=False)\n",
              "    (5): Conv2d(64, 128, kernel_size=(3, 3), stride=(1, 1), padding=(1, 1))\n",
              "    (6): ReLU(inplace=True)\n",
              "    (7): Conv2d(128, 128, kernel_size=(3, 3), stride=(1, 1), padding=(1, 1))\n",
              "    (8): ReLU(inplace=True)\n",
              "    (9): MaxPool2d(kernel_size=2, stride=2, padding=0, dilation=1, ceil_mode=False)\n",
              "    (10): Conv2d(128, 256, kernel_size=(3, 3), stride=(1, 1), padding=(1, 1))\n",
              "    (11): ReLU(inplace=True)\n",
              "    (12): Conv2d(256, 256, kernel_size=(3, 3), stride=(1, 1), padding=(1, 1))\n",
              "    (13): ReLU(inplace=True)\n",
              "    (14): Conv2d(256, 256, kernel_size=(3, 3), stride=(1, 1), padding=(1, 1))\n",
              "    (15): ReLU(inplace=True)\n",
              "    (16): MaxPool2d(kernel_size=2, stride=2, padding=0, dilation=1, ceil_mode=False)\n",
              "    (17): Conv2d(256, 512, kernel_size=(3, 3), stride=(1, 1), padding=(1, 1))\n",
              "    (18): ReLU(inplace=True)\n",
              "    (19): Conv2d(512, 512, kernel_size=(3, 3), stride=(1, 1), padding=(1, 1))\n",
              "    (20): ReLU(inplace=True)\n",
              "    (21): Conv2d(512, 512, kernel_size=(3, 3), stride=(1, 1), padding=(1, 1))\n",
              "    (22): ReLU(inplace=True)\n",
              "    (23): MaxPool2d(kernel_size=2, stride=2, padding=0, dilation=1, ceil_mode=False)\n",
              "    (24): Conv2d(512, 512, kernel_size=(3, 3), stride=(1, 1), padding=(1, 1))\n",
              "    (25): ReLU(inplace=True)\n",
              "    (26): Conv2d(512, 512, kernel_size=(3, 3), stride=(1, 1), padding=(1, 1))\n",
              "    (27): ReLU(inplace=True)\n",
              "    (28): Conv2d(512, 512, kernel_size=(3, 3), stride=(1, 1), padding=(1, 1))\n",
              "    (29): ReLU(inplace=True)\n",
              "    (30): MaxPool2d(kernel_size=2, stride=2, padding=0, dilation=1, ceil_mode=False)\n",
              "  )\n",
              "  (avgpool): AdaptiveAvgPool2d(output_size=(7, 7))\n",
              "  (classifier): Sequential(\n",
              "    (0): Linear(in_features=25088, out_features=4096, bias=True)\n",
              "    (1): ReLU(inplace=True)\n",
              "    (2): Dropout(p=0.5, inplace=False)\n",
              "    (3): Linear(in_features=4096, out_features=4096, bias=True)\n",
              "    (4): ReLU(inplace=True)\n",
              "    (5): Dropout(p=0.5, inplace=False)\n",
              "    (6): Linear(in_features=4096, out_features=1000, bias=True)\n",
              "  )\n",
              ")"
            ]
          },
          "execution_count": 4,
          "metadata": {},
          "output_type": "execute_result"
        }
      ],
      "source": [
        "vgg16_rand = models.vgg16(pretrained=False)\n",
        "\n",
        "# Randomly initialize the weights of the model\n",
        "def weights_init(m):\n",
        "    if isinstance(m, torch.nn.Conv2d) or isinstance(m, torch.nn.Linear):\n",
        "        torch.nn.init.kaiming_normal_(m.weight, mode='fan_out', nonlinearity='relu')\n",
        "        if m.bias is not None:\n",
        "            torch.nn.init.constant_(m.bias, 0)\n",
        "\n",
        "# Apply random initialization to the model\n",
        "vgg16_rand.apply(weights_init)"
      ]
    },
    {
      "cell_type": "code",
      "execution_count": null,
      "metadata": {
        "colab": {
          "base_uri": "https://localhost:8080/"
        },
        "id": "LRpccivIkyWx",
        "outputId": "01bcfd7b-4598-4d79-e7cb-6b4c041637f4"
      },
      "outputs": [
        {
          "name": "stderr",
          "output_type": "stream",
          "text": [
            "/usr/local/lib/python3.10/dist-packages/torchvision/models/_utils.py:223: UserWarning: Arguments other than a weight enum or `None` for 'weights' are deprecated since 0.13 and may be removed in the future. The current behavior is equivalent to passing `weights=VGG19_Weights.IMAGENET1K_V1`. You can also use `weights=VGG19_Weights.DEFAULT` to get the most up-to-date weights.\n",
            "  warnings.warn(msg)\n"
          ]
        }
      ],
      "source": [
        "vggface = models.vgg19(pretrained=True)"
      ]
    },
    {
      "cell_type": "code",
      "execution_count": null,
      "metadata": {
        "colab": {
          "base_uri": "https://localhost:8080/"
        },
        "id": "BzeuEQTQNIa_",
        "outputId": "d11826d0-b422-4608-b15e-388d90f32139"
      },
      "outputs": [
        {
          "name": "stderr",
          "output_type": "stream",
          "text": [
            "/usr/local/lib/python3.10/dist-packages/torchvision/models/_utils.py:208: UserWarning: The parameter 'pretrained' is deprecated since 0.13 and may be removed in the future, please use 'weights' instead.\n",
            "  warnings.warn(\n",
            "/usr/local/lib/python3.10/dist-packages/torchvision/models/_utils.py:223: UserWarning: Arguments other than a weight enum or `None` for 'weights' are deprecated since 0.13 and may be removed in the future. The current behavior is equivalent to passing `weights=ResNet50_Weights.IMAGENET1K_V1`. You can also use `weights=ResNet50_Weights.DEFAULT` to get the most up-to-date weights.\n",
            "  warnings.warn(msg)\n",
            "Downloading: \"https://download.pytorch.org/models/resnet50-0676ba61.pth\" to /root/.cache/torch/hub/checkpoints/resnet50-0676ba61.pth\n",
            "100%|██████████| 97.8M/97.8M [00:01<00:00, 63.0MB/s]\n"
          ]
        }
      ],
      "source": [
        "resnet = models.resnet50(pretrained=True)"
      ]
    },
    {
      "cell_type": "code",
      "execution_count": null,
      "metadata": {
        "colab": {
          "base_uri": "https://localhost:8080/"
        },
        "id": "W7b4h0LUYaUs",
        "outputId": "9b4793f3-d637-439d-cb3d-2864b5100922"
      },
      "outputs": [
        {
          "name": "stderr",
          "output_type": "stream",
          "text": [
            "/usr/local/lib/python3.10/dist-packages/torchvision/models/_utils.py:223: UserWarning: Arguments other than a weight enum or `None` for 'weights' are deprecated since 0.13 and may be removed in the future. The current behavior is equivalent to passing `weights=None`.\n",
            "  warnings.warn(msg)\n"
          ]
        }
      ],
      "source": [
        "resnet_rand = models.resnet50(pretrained=False)"
      ]
    },
    {
      "cell_type": "markdown",
      "metadata": {
        "id": "0XiK0X2G03d2"
      },
      "source": [
        "# Dataset"
      ]
    },
    {
      "cell_type": "code",
      "execution_count": 32,
      "metadata": {
        "id": "HW2q4LrvdSeL"
      },
      "outputs": [],
      "source": [
        "import os\n",
        "\n",
        "os.chdir('/content/')\n",
        "# Get the list of files and directories in the current directory\n"
      ]
    },
    {
      "cell_type": "code",
      "execution_count": 33,
      "metadata": {
        "colab": {
          "base_uri": "https://localhost:8080/"
        },
        "id": "OwyG6CWV03N4",
        "outputId": "26ca8374-2d61-4dea-d3be-b5ea264d55c0"
      },
      "outputs": [
        {
          "name": "stdout",
          "output_type": "stream",
          "text": [
            "Extraction complete!\n"
          ]
        }
      ],
      "source": [
        "import zipfile\n",
        "import os\n",
        "\n",
        "# Define the path to your zip file\n",
        "zip_file_path = 'images.zip'\n",
        "\n",
        "# Define the directory where you want to extract the contents\n",
        "extract_to_dir = 'images'\n",
        "\n",
        "# Create the directory if it doesn't exist\n",
        "os.makedirs(extract_to_dir, exist_ok=True)\n",
        "\n",
        "# Open the zip file\n",
        "with zipfile.ZipFile(zip_file_path, 'r') as zip_ref:\n",
        "    # Extract all the contents to the specified directory\n",
        "    zip_ref.extractall(extract_to_dir)\n",
        "\n",
        "print(\"Extraction complete!\")\n"
      ]
    },
    {
      "cell_type": "code",
      "execution_count": 34,
      "metadata": {
        "id": "nWmQAEY28otz"
      },
      "outputs": [],
      "source": [
        "import os\n",
        "\n",
        "directory = 'images/images/inv_up'\n",
        "os.makedirs(directory, exist_ok=True)\n",
        "directory = 'images/images/normal_down'\n",
        "os.makedirs(directory, exist_ok=True)\n",
        "\n",
        "\n",
        "\n",
        "\n",
        "inverted_path = 'images/images/inverted_images'\n",
        "normal_path = 'images/images/normal_images'\n",
        "\n",
        "for filename in os.listdir(inverted_path):\n",
        "    # Check if the file is an image (you can add more image extensions as needed)\n",
        "    if filename.endswith('.jpg') or filename.endswith('.png'):\n",
        "        # Construct the full path to the image file\n",
        "        image_path = os.path.join(inverted_path, filename)\n",
        "        # Open the image\n",
        "        image = Image.open(image_path)\n",
        "        # Invert the image\n",
        "        inverted_image = image.rotate(180)\n",
        "        # Display or save the inverted image\n",
        "        inverted_image.show()\n",
        "        # Get the filename without the extension\n",
        "        filename_ = os.path.splitext(filename)[0]\n",
        "        # If you want to save the inverted image\n",
        "        inverted_image.save(f'images/images/inv_up/{filename_}.jpg')\n",
        "\n",
        "\n",
        "for filename in os.listdir(normal_path):\n",
        "    # Check if the file is an image (you can add more image extensions as needed)\n",
        "    if filename.endswith('.jpg') or filename.endswith('.png'):\n",
        "        # Construct the full path to the image file\n",
        "        image_path = os.path.join(normal_path, filename)\n",
        "        # Open the image\n",
        "        image = Image.open(image_path)\n",
        "        # Invert the image\n",
        "        inverted_image = image.rotate(180)\n",
        "        # Display or save the inverted image\n",
        "        inverted_image.show()\n",
        "        # If you want to save the inverted image\n",
        "        filename_ = os.path.splitext(filename)[0]\n",
        "        inverted_image.save(f'images/images/normal_down/{filename_}.jpg')"
      ]
    },
    {
      "cell_type": "markdown",
      "metadata": {
        "id": "0U6KmgfVvXGo"
      },
      "source": [
        "# Tatcher"
      ]
    },
    {
      "cell_type": "code",
      "execution_count": null,
      "metadata": {
        "id": "F7D-TVVhrJrU"
      },
      "outputs": [],
      "source": [
        "def tatcher(feature):\n",
        "    dist = np.linalg.norm(feature[1] - feature[0])\n",
        "    dist_up = np.linalg.norm(feature[3] - feature[2])\n",
        "    return ((dist-dist_up)/(dist+dist_up))\n"
      ]
    },
    {
      "cell_type": "markdown",
      "metadata": {
        "id": "h493E5c-BWEW"
      },
      "source": [
        "# VGG16"
      ]
    },
    {
      "cell_type": "code",
      "execution_count": null,
      "metadata": {
        "id": "5I6QLiE9NIbA"
      },
      "outputs": [],
      "source": [
        "import time\n",
        "from PIL import Image\n",
        "import os\n",
        "\n",
        "# Function to preprocess image\n",
        "def preprocess_image(image_path):\n",
        "\n",
        "    transform = transforms.Compose([\n",
        "    transforms.Resize((224, 224)),\n",
        "    transforms.ToTensor(),\n",
        "    transforms.Normalize(mean=[0.485, 0.456, 0.406], std=[0.229, 0.224, 0.225])\n",
        "    ])\n",
        "    image = transform(image_path)\n",
        "    return image\n",
        "\n",
        "\n",
        "def extract_features(model):\n",
        "    model.eval()  # Set the model to evaluation mode\n",
        "\n",
        "    # Access VGG components\n",
        "    vgg16Features = model.features\n",
        "    vgg16AvgPool = model.avgpool\n",
        "    vgg16Linear = model.classifier\n",
        "\n",
        "    inverted_path = 'images/images/inverted_images'\n",
        "    normal_path = 'images/images/normal_images'\n",
        "    nd_path = 'images/images/normal_down'\n",
        "    iu_path = 'images/images/inv_up'\n",
        "    features= []\n",
        "    iter = 0\n",
        "    for filename in os.listdir(inverted_path):\n",
        "      feat = []  # Initialize feat list inside the loop\n",
        "      if filename.endswith('.jpg') or filename.endswith('.png'):\n",
        "          image_path = os.path.join(inverted_path, filename)\n",
        "          inv = Image.open(image_path)\n",
        "          image_path = os.path.join(normal_path, filename)\n",
        "          norm_up = Image.open(image_path)\n",
        "          image_path = os.path.join(nd_path, filename)\n",
        "          norm = Image.open(image_path)\n",
        "          image_path = os.path.join(iu_path, filename)\n",
        "          inv_up = Image.open(image_path)\n",
        "          images = [inv, norm, inv_up, norm_up]\n",
        "          for g in images:\n",
        "              image_features = []  # Features for the current image\n",
        "              image_tensor = preprocess_image(g).unsqueeze(0)\n",
        "              with torch.no_grad():\n",
        "                  for layer in vgg16Features:\n",
        "                      image_tensor = layer(image_tensor)\n",
        "                      if isinstance(layer, torch.nn.Conv2d):\n",
        "                          image_features.append(image_tensor.clone())\n",
        "                  image_tensor = vgg16AvgPool(image_tensor)\n",
        "                  image_tensor = image_tensor.view(image_tensor.size(0), -1)\n",
        "                  image_features.append(image_tensor.clone())\n",
        "                  for layer in vgg16Linear:\n",
        "                      image_tensor = layer(image_tensor)\n",
        "                      image_features.append(image_tensor.clone())\n",
        "              feat.append([image_features])  # Add features for this image\n",
        "      features.append(feat)\n",
        "      iter+=1\n",
        "      if iter == 20:\n",
        "        break\n",
        "\n",
        "    return features\n",
        "\n",
        "\n",
        "\n",
        "\n"
      ]
    },
    {
      "cell_type": "code",
      "execution_count": null,
      "metadata": {
        "id": "zjN-VJ9QonSu"
      },
      "outputs": [],
      "source": [
        "dist_type = 'Euclidean'\n",
        "RC_across_layers = []\n",
        "model = vgg16\n",
        "features_length = extract_features(model)"
      ]
    },
    {
      "cell_type": "code",
      "execution_count": null,
      "metadata": {
        "colab": {
          "base_uri": "https://localhost:8080/"
        },
        "id": "NmuoE9UpHC2H",
        "outputId": "f0e6e74b-7726-421c-eacd-b5418753eb00"
      },
      "outputs": [
        {
          "name": "stdout",
          "output_type": "stream",
          "text": [
            "21\n"
          ]
        }
      ],
      "source": [
        "print(len(features_length[0][0][0]))"
      ]
    },
    {
      "cell_type": "code",
      "execution_count": null,
      "metadata": {
        "id": "q2ZkAa0rN5q-"
      },
      "outputs": [],
      "source": [
        "metric_vgg = []\n",
        "\n",
        "for i in range(20):\n",
        "    layer = []\n",
        "    for k in range(len(features_length[0][0][0])-1):\n",
        "        some = []\n",
        "        for j in range(4):\n",
        "            some.append(features_length[i][j][0][k])\n",
        "        d = tatcher(some)\n",
        "        layer.append(d)\n",
        "    metric_vgg.append(layer)\n"
      ]
    },
    {
      "cell_type": "code",
      "execution_count": null,
      "metadata": {
        "colab": {
          "base_uri": "https://localhost:8080/"
        },
        "id": "RO1k1nULQJW5",
        "outputId": "1a46cf8b-c50f-4665-a5f1-e3d4a23a047f"
      },
      "outputs": [
        {
          "name": "stdout",
          "output_type": "stream",
          "text": [
            "[-1.4087712e-04  8.0785554e-05 -2.2245287e-03 -1.2360748e-03\n",
            " -1.1348163e-03 -1.5083534e-03 -1.5724726e-03 -4.1390667e-03\n",
            " -3.3101407e-03 -7.5714081e-03 -1.9017652e-02 -6.8672165e-02\n",
            " -1.0961121e-01  9.3258336e-02  1.1437915e-01  8.1442937e-02\n",
            "  8.1442937e-02  6.7389689e-02  1.4035335e-01  1.4035335e-01]\n"
          ]
        }
      ],
      "source": [
        "metric_vgg = np.array(metric_vgg)\n",
        "metric_vgg = np.mean(metric_vgg, axis = 0)\n",
        "print(metric_vgg)"
      ]
    },
    {
      "cell_type": "code",
      "execution_count": null,
      "metadata": {
        "id": "w0iiKveISVQA"
      },
      "outputs": [],
      "source": [
        "dist_type = 'Euclidean'\n",
        "RC_across_layers = []\n",
        "model = vgg16_rand\n",
        "features_rand = extract_features(model)\n"
      ]
    },
    {
      "cell_type": "code",
      "execution_count": null,
      "metadata": {
        "id": "oK7LpsAWTBYI"
      },
      "outputs": [],
      "source": [
        "metric_rand = []\n",
        "\n",
        "for i in range(20):\n",
        "    layer = []\n",
        "    for k in range(len(features_rand[0][0][0])-1):\n",
        "        some = []\n",
        "        for j in range(4):\n",
        "            some.append(features_rand[i][j][0][k])\n",
        "        d = tatcher(some)\n",
        "        layer.append(d)\n",
        "    metric_rand.append(layer)\n"
      ]
    },
    {
      "cell_type": "code",
      "execution_count": null,
      "metadata": {
        "colab": {
          "base_uri": "https://localhost:8080/"
        },
        "id": "k24uPUQdTDOy",
        "outputId": "2057488d-5c4d-4d6f-c205-95a8817d72ca"
      },
      "outputs": [
        {
          "name": "stdout",
          "output_type": "stream",
          "text": [
            "[-1.4087712e-04  8.0785554e-05 -2.2245287e-03 -1.2360748e-03\n",
            " -1.1348163e-03 -1.5083534e-03 -1.5724726e-03 -4.1390667e-03\n",
            " -3.3101407e-03 -7.5714081e-03 -1.9017652e-02 -6.8672165e-02\n",
            " -1.0961121e-01  9.3258336e-02  1.1437915e-01  8.1442937e-02\n",
            "  8.1442937e-02  6.7389689e-02  1.4035335e-01  1.4035335e-01]\n"
          ]
        }
      ],
      "source": [
        "metric_rand = np.array(metric_rand)\n",
        "metric_rand = np.mean(metric_rand, axis = 0)\n",
        "print(metric_vgg)"
      ]
    },
    {
      "cell_type": "code",
      "execution_count": null,
      "metadata": {
        "id": "TvcabuPDlN-B"
      },
      "outputs": [],
      "source": [
        "model = vggface\n",
        "features_face = extract_features(model)\n"
      ]
    },
    {
      "cell_type": "code",
      "execution_count": null,
      "metadata": {
        "id": "Ouy4GWoMlU1u"
      },
      "outputs": [],
      "source": [
        "metric_vggface = []\n",
        "\n",
        "for i in range(20):\n",
        "    layer = []\n",
        "    for k in range(len(features_face[0][0][0])-1):\n",
        "        some = []\n",
        "        for j in range(4):\n",
        "            some.append(features_face[i][j][0][k])\n",
        "        d = tatcher(some)\n",
        "        layer.append(d)\n",
        "    metric_vggface.append(layer)\n"
      ]
    },
    {
      "cell_type": "code",
      "execution_count": null,
      "metadata": {
        "colab": {
          "base_uri": "https://localhost:8080/"
        },
        "id": "H78LyZxRlY0J",
        "outputId": "5353eafa-106e-4658-963e-37f425b00422"
      },
      "outputs": [
        {
          "name": "stdout",
          "output_type": "stream",
          "text": [
            "[-0.00084621 -0.00180128 -0.00238125 -0.00160758 -0.00235592 -0.00254591\n",
            " -0.00128265 -0.00236569 -0.00118144 -0.00457783 -0.00629292 -0.01621086\n",
            " -0.0169077  -0.0421373  -0.10128088 -0.11440973  0.10098696  0.15047319\n",
            "  0.11553268  0.11553268  0.11584121  0.14859796  0.14859796]\n"
          ]
        }
      ],
      "source": [
        "metric_vggface = np.array(metric_vggface)\n",
        "metric_vggface = np.mean(metric_vggface, axis = 0)\n",
        "print(metric_vggface)"
      ]
    },
    {
      "cell_type": "code",
      "execution_count": null,
      "metadata": {
        "id": "yWqbDXGdoKN2"
      },
      "outputs": [],
      "source": [
        "metric_vggface = [ -0.00160758, -0.00235592, -0.00254591,\n",
        "                  -0.00128265, -0.00236569, -0.00118144, -0.00457783, -0.00629292, -0.01621086,\n",
        "                  -0.0169077, -0.0421373, -0.10128088, -0.11440973, 0.10098696, 0.15047319,\n",
        "                   0.11553268, 0.11553268, 0.11584121, 0.14859796, 0.14859796]\n"
      ]
    },
    {
      "cell_type": "code",
      "execution_count": null,
      "metadata": {
        "colab": {
          "base_uri": "https://localhost:8080/"
        },
        "id": "pKh9vAs_oRXb",
        "outputId": "d4c7895d-b1f9-4a9a-875e-76cb700a90b8"
      },
      "outputs": [
        {
          "data": {
            "text/plain": [
              "20"
            ]
          },
          "execution_count": 21,
          "metadata": {},
          "output_type": "execute_result"
        }
      ],
      "source": [
        "len(metric_vggface)"
      ]
    },
    {
      "cell_type": "code",
      "execution_count": null,
      "metadata": {
        "colab": {
          "base_uri": "https://localhost:8080/",
          "height": 564
        },
        "id": "X6RaOGjBVnY0",
        "outputId": "7095a481-9558-4f77-ac3a-b4d387d90175"
      },
      "outputs": [
        {
          "data": {
            "image/png": "[encoded data removed]",
            "text/plain": [
              "<Figure size 800x600 with 1 Axes>"
            ]
          },
          "metadata": {},
          "output_type": "display_data"
        }
      ],
      "source": [
        "import numpy as np\n",
        "import matplotlib.pyplot as plt\n",
        "\n",
        "\n",
        "# Compute differences between correlation coefficients across layers\n",
        "\n",
        "\n",
        "# Create x-axis values (layers)\n",
        "layers = range(metric_vgg.shape[0])\n",
        "\n",
        "# Create figure and axis objects\n",
        "fig, ax = plt.subplots(figsize=(8, 6))\n",
        "\n",
        "mi=(4.89-2.92)/(4.89+2.92);\n",
        "reference_name ='Bartlet and Searcy, 1993';\n",
        "\n",
        "# plt.axhline(y=mi, color='black', linestyle='--', label=' Bartlet and Searcy, 1993 ')\n",
        "\n",
        "# Plot the differences\n",
        "ax.plot(layers, metric_vgg, marker='o', linestyle='-', color='b', label='VGG16')\n",
        "ax.plot(layers, metric_rand, marker='o', linestyle='-', color='r', label='VGG16-rand')\n",
        "ax.plot(layers, metric_vggface, marker='o', linestyle='-', color='g', label='VGG19-face')\n",
        "\n",
        "# Set x-axis labels\n",
        "ax.set_xticks(layers)\n",
        "\n",
        "# Set y-axis range\n",
        "ax.set_ylim(-1, 1)\n",
        "\n",
        "# Draw horizontal line at y=0\n",
        "ax.axhline(0, color='grey', linewidth=0.5)\n",
        "\n",
        "x_ = [0, 20, 20, 0, 0]\n",
        "y_ = [0, 0, 1, 1, 0]\n",
        "# Set axis limits\n",
        "plt.xlim(0, 20)\n",
        "plt.ylim(-1, 1)\n",
        "\n",
        "# Shade entire region above y=0 with grey\n",
        "ax.fill_between(x_, y_, color='grey', alpha=0.3, label='Human Perception Area')\n",
        "\n",
        "# Label axes and title\n",
        "ax.set_xlabel('Layers')\n",
        "ax.set_ylabel('Tatcher Index')\n",
        "ax.set_title('Tatcher Effect in VGG')\n",
        "\n",
        "# Show legend\n",
        "plt.legend()\n",
        "\n",
        "# Show plot\n",
        "plt.grid(True)\n",
        "plt.show()\n"
      ]
    },
    {
      "cell_type": "markdown",
      "metadata": {
        "id": "kSztivVuXHN5"
      },
      "source": [
        "# Resenet"
      ]
    },
    {
      "cell_type": "code",
      "execution_count": 35,
      "metadata": {
        "id": "j36R3jklXREa"
      },
      "outputs": [],
      "source": [
        "import time\n",
        "from PIL import Image\n",
        "import os\n",
        "\n",
        "# Function to preprocess image\n",
        "def preprocess_image(image_path):\n",
        "\n",
        "    transform = transforms.Compose([\n",
        "    transforms.Resize((224, 224)),\n",
        "    transforms.ToTensor(),\n",
        "    transforms.Normalize(mean=[0.485, 0.456, 0.406], std=[0.229, 0.224, 0.225])\n",
        "    ])\n",
        "    image = transform(image_path)\n",
        "    return image\n",
        "\n",
        "\n",
        "def extract_features(model):\n",
        "    model.eval()  # Set the model to evaluation mode\n",
        "\n",
        "    # Access ResNet components\n",
        "    resnet_layers = list(model.children())[:-1]  # Exclude the last fully connected layer\n",
        "    resnet_avgpool = torch.nn.AdaptiveAvgPool2d((1, 1))\n",
        "\n",
        "    inverted_path = 'images/images/inverted_images'\n",
        "    normal_path = 'images/images/normal_images'\n",
        "    nd_path = 'images/images/normal_down'\n",
        "    iu_path = 'images/images/inv_up'\n",
        "    features= []\n",
        "    iter = 0\n",
        "    for filename in os.listdir(inverted_path):\n",
        "      feat = []  # Initialize feat list inside the loop\n",
        "      if filename.endswith('.jpg') or filename.endswith('.png'):\n",
        "          image_path = os.path.join(inverted_path, filename)\n",
        "          inv = Image.open(image_path)\n",
        "          image_path = os.path.join(normal_path, filename)\n",
        "          norm_up = Image.open(image_path)\n",
        "          image_path = os.path.join(nd_path, filename)\n",
        "          norm = Image.open(image_path)\n",
        "          image_path = os.path.join(iu_path, filename)\n",
        "          inv_up = Image.open(image_path)\n",
        "          images = [inv, norm, inv_up, norm_up]\n",
        "          for g in images:\n",
        "              image_features = []  # Features for the current image\n",
        "              image_tensor = preprocess_image(g).unsqueeze(0)\n",
        "              with torch.no_grad():\n",
        "                # Extract from convolutional layers\n",
        "                for layer in resnet_layers:\n",
        "                    image_tensor = layer(image_tensor)\n",
        "                    image_features.append(image_tensor.clone())\n",
        "\n",
        "                # Apply adaptive average pooling\n",
        "                image_tensor = resnet_avgpool(image_tensor)\n",
        "                image_tensor = image_tensor.view(image_tensor.size(0), -1)  # Flatten\n",
        "                image_features.append(image_tensor.clone())  # Add pooled features\n",
        "              feat.append([image_features])  # Add features for this image\n",
        "      features.append(feat)\n",
        "      iter+=1\n",
        "      if iter == 20:\n",
        "        break\n",
        "\n",
        "    return features\n",
        "\n",
        "\n",
        "\n",
        "\n",
        "dist_type = 'Euclidean'\n",
        "RC_across_layers = []\n",
        "model = resnet\n",
        "features_resnet = extract_features(model)"
      ]
    },
    {
      "cell_type": "code",
      "execution_count": 36,
      "metadata": {
        "id": "gCxUgTKCYI_c"
      },
      "outputs": [],
      "source": [
        "metric_resnet = []\n",
        "\n",
        "for i in range(20):\n",
        "    layer = []\n",
        "    for k in range(len(features_resnet[0][0][0])-1):\n",
        "        some = []\n",
        "        for j in range(4):\n",
        "            some.append(features_resnet[i][j][0][k])\n",
        "        d = tatcher(some)\n",
        "        layer.append(d)\n",
        "    metric_resnet.append(layer)\n"
      ]
    },
    {
      "cell_type": "code",
      "execution_count": 37,
      "metadata": {
        "colab": {
          "base_uri": "https://localhost:8080/"
        },
        "id": "K0ThbUsPYLsf",
        "outputId": "f665a509-047c-4c9e-be8e-be6d30dc5498"
      },
      "outputs": [
        {
          "name": "stdout",
          "output_type": "stream",
          "text": [
            "[-4.0550117e-04 -9.1354240e-04 -1.1694183e-03  8.2882703e-05\n",
            " -5.8630446e-04  1.4798320e-04  1.9146843e-02  8.1924662e-02\n",
            "  1.3359356e-01]\n"
          ]
        }
      ],
      "source": [
        "metric_resnet = np.array(metric_resnet)\n",
        "metric_resnet = np.mean(metric_resnet, axis = 0)\n",
        "print(metric_resnet)"
      ]
    },
    {
      "cell_type": "code",
      "execution_count": null,
      "metadata": {
        "id": "ljolk0Z1YNgn"
      },
      "outputs": [],
      "source": [
        "import numpy as np\n",
        "import matplotlib.pyplot as plt\n",
        "\n",
        "\n",
        "# Compute differences between correlation coefficients across layers\n",
        "\n",
        "\n",
        "# Create x-axis values (layers)\n",
        "layers = range(metric_resnet.shape[0])\n",
        "\n",
        "# Create figure and axis objects\n",
        "fig, ax = plt.subplots(figsize=(8, 6))\n",
        "\n",
        "# Plot the differences\n",
        "ax.plot(layers, metric_resnet, marker='o', linestyle='-', color='b', label='resnet')\n",
        "# ax.plot(layers, metric_rand, marker='o', linestyle='-', color='r', label='VGG16-rand')\n",
        "\n",
        "# Set x-axis labels\n",
        "ax.set_xticks(layers)\n",
        "\n",
        "# Set y-axis range\n",
        "ax.set_ylim(-1, 1)\n",
        "\n",
        "# Draw horizontal line at y=0\n",
        "ax.axhline(0, color='grey', linewidth=0.5)\n",
        "\n",
        "x_ = [0, 8, 8, 0, 0]\n",
        "y_ = [0, 0, 1, 1, 0]\n",
        "# Set axis limits\n",
        "plt.xlim(0, 8)\n",
        "plt.ylim(-1, 1)\n",
        "\n",
        "# Shade entire region above y=0 with grey\n",
        "ax.fill_between(x_, y_, color='grey', alpha=0.3, label='Human Perception Area')\n",
        "\n",
        "# Label axes and title\n",
        "ax.set_xlabel('Layers')\n",
        "ax.set_ylabel('Correlation Difference')\n",
        "ax.set_title('Difference in Correlation Coefficients Across Layers')\n",
        "\n",
        "# Show legend\n",
        "plt.legend()\n",
        "\n",
        "# Show plot\n",
        "plt.grid(True)\n",
        "plt.show()\n"
      ]
    },
    {
      "cell_type": "code",
      "execution_count": 38,
      "metadata": {
        "id": "wFUTtmfnYvrc"
      },
      "outputs": [],
      "source": [
        "\n",
        "dist_type = 'Euclidean'\n",
        "RC_across_layers = []\n",
        "model = resnet_rand\n",
        "features_resnet = extract_features(model)"
      ]
    },
    {
      "cell_type": "code",
      "execution_count": 39,
      "metadata": {
        "id": "6Asc8NjrZifB"
      },
      "outputs": [],
      "source": [
        "metric_resnetr = []\n",
        "\n",
        "for i in range(20):\n",
        "    layer = []\n",
        "    for k in range(len(features_resnet[0][0][0])-1):\n",
        "        some = []\n",
        "        for j in range(4):\n",
        "            some.append(features_resnet[i][j][0][k])\n",
        "        d = tatcher(some)\n",
        "        layer.append(d)\n",
        "    metric_resnetr.append(layer)\n"
      ]
    },
    {
      "cell_type": "code",
      "execution_count": 40,
      "metadata": {
        "colab": {
          "base_uri": "https://localhost:8080/"
        },
        "id": "ARqmljXRZsbQ",
        "outputId": "c5b9c8ec-a2e1-4128-ee08-0d72c74d369a"
      },
      "outputs": [
        {
          "name": "stdout",
          "output_type": "stream",
          "text": [
            "[0.00023081 0.0002308  0.00012959 0.00123049 0.00151956 0.0007216\n",
            " 0.00455317 0.01367278 0.01185821]\n"
          ]
        }
      ],
      "source": [
        "metric_resnetr = np.array(metric_resnetr)\n",
        "metric_resnetr = np.mean(metric_resnetr, axis = 0)\n",
        "print(metric_resnetr)"
      ]
    },
    {
      "cell_type": "code",
      "execution_count": 41,
      "metadata": {
        "colab": {
          "base_uri": "https://localhost:8080/",
          "height": 564
        },
        "id": "oSN032eQZyMi",
        "outputId": "1e29c247-d6a8-448a-e100-208fe815ebab"
      },
      "outputs": [
        {
          "data": {
            "image/png": "[encoded data removed]",
            "text/plain": [
              "<Figure size 800x600 with 1 Axes>"
            ]
          },
          "metadata": {},
          "output_type": "display_data"
        }
      ],
      "source": [
        "import numpy as np\n",
        "import matplotlib.pyplot as plt\n",
        "\n",
        "\n",
        "# Compute differences between correlation coefficients across layers\n",
        "\n",
        "\n",
        "# Create x-axis values (layers)\n",
        "layers = range(metric_resnet.shape[0])\n",
        "\n",
        "# Create figure and axis objects\n",
        "fig, ax = plt.subplots(figsize=(8, 6))\n",
        "\n",
        "# Plot the differences\n",
        "ax.plot(layers, metric_resnet, marker='o', linestyle='-', color='b', label='resnet')\n",
        "ax.plot(layers, metric_resnetr, marker='o', linestyle='-', color='r', label='resnet-rand')\n",
        "\n",
        "# Set x-axis labels\n",
        "ax.set_xticks(layers)\n",
        "\n",
        "# Set y-axis range\n",
        "ax.set_ylim(-1, 1)\n",
        "\n",
        "# Draw horizontal line at y=0\n",
        "ax.axhline(0, color='grey', linewidth=0.5)\n",
        "\n",
        "x_ = [0, 8, 8, 0, 0]\n",
        "y_ = [0, 0, 1, 1, 0]\n",
        "# Set axis limits\n",
        "plt.xlim(0, 8)\n",
        "plt.ylim(-1, 1)\n",
        "\n",
        "# Shade entire region above y=0 with grey\n",
        "ax.fill_between(x_, y_, color='grey', alpha=0.3, label='Human Perception Area')\n",
        "\n",
        "# Label axes and title\n",
        "ax.set_xlabel('Layers')\n",
        "ax.set_ylabel('Tatcher Index')\n",
        "ax.set_title('Tatcher Effect in Resnet')\n",
        "\n",
        "# Show legend\n",
        "plt.legend()\n",
        "\n",
        "# Show plot\n",
        "plt.grid(True)\n",
        "plt.show()\n"
      ]
    },
    {
      "cell_type": "markdown",
      "metadata": {
        "id": "4xbQUgYLZ_Dt"
      },
      "source": [
        "# Vision Transformer"
      ]
    },
    {
      "cell_type": "code",
      "execution_count": null,
      "metadata": {
        "colab": {
          "base_uri": "https://localhost:8080/"
        },
        "id": "WSopVgFXabkW",
        "outputId": "0406df3c-19ee-4a27-f06f-c786a632f125"
      },
      "outputs": [
        {
          "name": "stdout",
          "output_type": "stream",
          "text": [
            "Cloning into 'pytorch-image-models'...\n",
            "remote: Enumerating objects: 16645, done.\u001b[K\n",
            "remote: Counting objects: 100% (572/572), done.\u001b[K\n",
            "remote: Compressing objects: 100% (285/285), done.\u001b[K\n",
            "remote: Total 16645 (delta 357), reused 423 (delta 281), pack-reused 16073\u001b[K\n",
            "Receiving objects: 100% (16645/16645), 25.37 MiB | 10.72 MiB/s, done.\n",
            "Resolving deltas: 100% (12189/12189), done.\n",
            "Obtaining file:///content/pytorch-image-models\n",
            "  Installing build dependencies ... \u001b[?25l\u001b[?25hdone\n",
            "  Checking if build backend supports build_editable ... \u001b[?25l\u001b[?25hdone\n",
            "  Getting requirements to build editable ... \u001b[?25l\u001b[?25hdone\n",
            "  Installing backend dependencies ... \u001b[?25l\u001b[?25hdone\n",
            "  Preparing editable metadata (pyproject.toml) ... \u001b[?25l\u001b[?25hdone\n",
            "Requirement already satisfied: torch in /usr/local/lib/python3.10/dist-packages (from timm==1.0.0.dev0) (2.2.1+cu121)\n",
            "Requirement already satisfied: torchvision in /usr/local/lib/python3.10/dist-packages (from timm==1.0.0.dev0) (0.17.1+cu121)\n",
            "Requirement already satisfied: pyyaml in /usr/local/lib/python3.10/dist-packages (from timm==1.0.0.dev0) (6.0.1)\n",
            "Requirement already satisfied: huggingface_hub in /usr/local/lib/python3.10/dist-packages (from timm==1.0.0.dev0) (0.20.3)\n",
            "Requirement already satisfied: safetensors in /usr/local/lib/python3.10/dist-packages (from timm==1.0.0.dev0) (0.4.3)\n",
            "Requirement already satisfied: filelock in /usr/local/lib/python3.10/dist-packages (from huggingface_hub->timm==1.0.0.dev0) (3.14.0)\n",
            "Requirement already satisfied: fsspec>=2023.5.0 in /usr/local/lib/python3.10/dist-packages (from huggingface_hub->timm==1.0.0.dev0) (2023.6.0)\n",
            "Requirement already satisfied: requests in /usr/local/lib/python3.10/dist-packages (from huggingface_hub->timm==1.0.0.dev0) (2.31.0)\n",
            "Requirement already satisfied: tqdm>=4.42.1 in /usr/local/lib/python3.10/dist-packages (from huggingface_hub->timm==1.0.0.dev0) (4.66.4)\n",
            "Requirement already satisfied: typing-extensions>=3.7.4.3 in /usr/local/lib/python3.10/dist-packages (from huggingface_hub->timm==1.0.0.dev0) (4.11.0)\n",
            "Requirement already satisfied: packaging>=20.9 in /usr/local/lib/python3.10/dist-packages (from huggingface_hub->timm==1.0.0.dev0) (24.0)\n",
            "Requirement already satisfied: sympy in /usr/local/lib/python3.10/dist-packages (from torch->timm==1.0.0.dev0) (1.12)\n",
            "Requirement already satisfied: networkx in /usr/local/lib/python3.10/dist-packages (from torch->timm==1.0.0.dev0) (3.3)\n",
            "Requirement already satisfied: jinja2 in /usr/local/lib/python3.10/dist-packages (from torch->timm==1.0.0.dev0) (3.1.4)\n",
            "Collecting nvidia-cuda-nvrtc-cu12==12.1.105 (from torch->timm==1.0.0.dev0)\n",
            "  Using cached nvidia_cuda_nvrtc_cu12-12.1.105-py3-none-manylinux1_x86_64.whl (23.7 MB)\n",
            "Collecting nvidia-cuda-runtime-cu12==12.1.105 (from torch->timm==1.0.0.dev0)\n",
            "  Using cached nvidia_cuda_runtime_cu12-12.1.105-py3-none-manylinux1_x86_64.whl (823 kB)\n",
            "Collecting nvidia-cuda-cupti-cu12==12.1.105 (from torch->timm==1.0.0.dev0)\n",
            "  Using cached nvidia_cuda_cupti_cu12-12.1.105-py3-none-manylinux1_x86_64.whl (14.1 MB)\n",
            "Collecting nvidia-cudnn-cu12==8.9.2.26 (from torch->timm==1.0.0.dev0)\n",
            "  Using cached nvidia_cudnn_cu12-8.9.2.26-py3-none-manylinux1_x86_64.whl (731.7 MB)\n",
            "Collecting nvidia-cublas-cu12==12.1.3.1 (from torch->timm==1.0.0.dev0)\n",
            "  Using cached nvidia_cublas_cu12-12.1.3.1-py3-none-manylinux1_x86_64.whl (410.6 MB)\n",
            "Collecting nvidia-cufft-cu12==11.0.2.54 (from torch->timm==1.0.0.dev0)\n",
            "  Using cached nvidia_cufft_cu12-11.0.2.54-py3-none-manylinux1_x86_64.whl (121.6 MB)\n",
            "Collecting nvidia-curand-cu12==10.3.2.106 (from torch->timm==1.0.0.dev0)\n",
            "  Using cached nvidia_curand_cu12-10.3.2.106-py3-none-manylinux1_x86_64.whl (56.5 MB)\n",
            "Collecting nvidia-cusolver-cu12==11.4.5.107 (from torch->timm==1.0.0.dev0)\n",
            "  Using cached nvidia_cusolver_cu12-11.4.5.107-py3-none-manylinux1_x86_64.whl (124.2 MB)\n",
            "Collecting nvidia-cusparse-cu12==12.1.0.106 (from torch->timm==1.0.0.dev0)\n",
            "  Using cached nvidia_cusparse_cu12-12.1.0.106-py3-none-manylinux1_x86_64.whl (196.0 MB)\n",
            "Collecting nvidia-nccl-cu12==2.19.3 (from torch->timm==1.0.0.dev0)\n",
            "  Using cached nvidia_nccl_cu12-2.19.3-py3-none-manylinux1_x86_64.whl (166.0 MB)\n",
            "Collecting nvidia-nvtx-cu12==12.1.105 (from torch->timm==1.0.0.dev0)\n",
            "  Using cached nvidia_nvtx_cu12-12.1.105-py3-none-manylinux1_x86_64.whl (99 kB)\n",
            "Requirement already satisfied: triton==2.2.0 in /usr/local/lib/python3.10/dist-packages (from torch->timm==1.0.0.dev0) (2.2.0)\n",
            "Collecting nvidia-nvjitlink-cu12 (from nvidia-cusolver-cu12==11.4.5.107->torch->timm==1.0.0.dev0)\n",
            "  Using cached nvidia_nvjitlink_cu12-12.4.127-py3-none-manylinux2014_x86_64.whl (21.1 MB)\n",
            "Requirement already satisfied: numpy in /usr/local/lib/python3.10/dist-packages (from torchvision->timm==1.0.0.dev0) (1.25.2)\n",
            "Requirement already satisfied: pillow!=8.3.*,>=5.3.0 in /usr/local/lib/python3.10/dist-packages (from torchvision->timm==1.0.0.dev0) (9.4.0)\n",
            "Requirement already satisfied: MarkupSafe>=2.0 in /usr/local/lib/python3.10/dist-packages (from jinja2->torch->timm==1.0.0.dev0) (2.1.5)\n",
            "Requirement already satisfied: charset-normalizer<4,>=2 in /usr/local/lib/python3.10/dist-packages (from requests->huggingface_hub->timm==1.0.0.dev0) (3.3.2)\n",
            "Requirement already satisfied: idna<4,>=2.5 in /usr/local/lib/python3.10/dist-packages (from requests->huggingface_hub->timm==1.0.0.dev0) (3.7)\n",
            "Requirement already satisfied: urllib3<3,>=1.21.1 in /usr/local/lib/python3.10/dist-packages (from requests->huggingface_hub->timm==1.0.0.dev0) (2.0.7)\n",
            "Requirement already satisfied: certifi>=2017.4.17 in /usr/local/lib/python3.10/dist-packages (from requests->huggingface_hub->timm==1.0.0.dev0) (2024.2.2)\n",
            "Requirement already satisfied: mpmath>=0.19 in /usr/local/lib/python3.10/dist-packages (from sympy->torch->timm==1.0.0.dev0) (1.3.0)\n",
            "Building wheels for collected packages: timm\n",
            "  Building editable for timm (pyproject.toml) ... \u001b[?25l\u001b[?25hdone\n",
            "  Created wheel for timm: filename=timm-1.0.0.dev0-py3-none-any.whl size=19247 sha256=558c5e0b176745586492f6e616f2c017b8fc29469da4a5ffa43bd4096b1bb5ad\n",
            "  Stored in directory: /tmp/pip-ephem-wheel-cache-uaeg6mih/wheels/9a/80/ed/e156ee40c546d42720a20658b2f29f723af31b9b1f21cdd13b\n",
            "Successfully built timm\n",
            "Installing collected packages: nvidia-nvtx-cu12, nvidia-nvjitlink-cu12, nvidia-nccl-cu12, nvidia-curand-cu12, nvidia-cufft-cu12, nvidia-cuda-runtime-cu12, nvidia-cuda-nvrtc-cu12, nvidia-cuda-cupti-cu12, nvidia-cublas-cu12, nvidia-cusparse-cu12, nvidia-cudnn-cu12, nvidia-cusolver-cu12, timm\n",
            "Successfully installed nvidia-cublas-cu12-12.1.3.1 nvidia-cuda-cupti-cu12-12.1.105 nvidia-cuda-nvrtc-cu12-12.1.105 nvidia-cuda-runtime-cu12-12.1.105 nvidia-cudnn-cu12-8.9.2.26 nvidia-cufft-cu12-11.0.2.54 nvidia-curand-cu12-10.3.2.106 nvidia-cusolver-cu12-11.4.5.107 nvidia-cusparse-cu12-12.1.0.106 nvidia-nccl-cu12-2.19.3 nvidia-nvjitlink-cu12-12.4.127 nvidia-nvtx-cu12-12.1.105 timm-1.0.0.dev0\n"
          ]
        }
      ],
      "source": [
        "!git clone https://github.com/huggingface/pytorch-image-models.git\n",
        "!pip install -e pytorch-image-models"
      ]
    },
    {
      "cell_type": "code",
      "execution_count": null,
      "metadata": {
        "id": "n3MQebGlaf25"
      },
      "outputs": [],
      "source": [
        "import os\n",
        "os.chdir('pytorch-image-models')"
      ]
    },
    {
      "cell_type": "code",
      "execution_count": null,
      "metadata": {
        "colab": {
          "base_uri": "https://localhost:8080/"
        },
        "id": "3i-Hp0NqbuTa",
        "outputId": "7f901f60-c3f6-4588-df62-f8f1bdfed439"
      },
      "outputs": [
        {
          "name": "stderr",
          "output_type": "stream",
          "text": [
            "/usr/local/lib/python3.10/dist-packages/huggingface_hub/utils/_token.py:88: UserWarning: \n",
            "The secret `HF_TOKEN` does not exist in your Colab secrets.\n",
            "To authenticate with the Hugging Face Hub, create a token in your settings tab (https://huggingface.co/settings/tokens), set it as secret in your Google Colab and restart your session.\n",
            "You will be able to reuse this secret in all of your notebooks.\n",
            "Please note that authentication is recommended but still optional to access public models or datasets.\n",
            "  warnings.warn(\n"
          ]
        }
      ],
      "source": [
        "import timm\n",
        "# Load pre-trained ViT model\n",
        "vit = timm.create_model('vit_base_patch16_224', pretrained=True)\n"
      ]
    },
    {
      "cell_type": "code",
      "execution_count": null,
      "metadata": {
        "id": "zpTyUJYFawa8"
      },
      "outputs": [],
      "source": [
        "layer_output = vit.forward_intermediates(g, intermediates_only=True)"
      ]
    },
    {
      "cell_type": "code",
      "execution_count": null,
      "metadata": {
        "colab": {
          "base_uri": "https://localhost:8080/",
          "height": 200
        },
        "id": "Iql0yK4Ye16F",
        "outputId": "457026bc-3d9c-4df4-d759-da9e24c68a98"
      },
      "outputs": [
        {
          "ename": "NameError",
          "evalue": "name 'preprocess_image' is not defined",
          "output_type": "error",
          "traceback": [
            "\u001b[0;31m---------------------------------------------------------------------------\u001b[0m",
            "\u001b[0;31mNameError\u001b[0m                                 Traceback (most recent call last)",
            "\u001b[0;32m<ipython-input-5-6d63d9d41dba>\u001b[0m in \u001b[0;36m<cell line: 3>\u001b[0;34m()\u001b[0m\n\u001b[1;32m      1\u001b[0m \u001b[0mimg_path\u001b[0m \u001b[0;34m=\u001b[0m \u001b[0;34m'../images/images/inv_up/000100.jpg'\u001b[0m\u001b[0;34m\u001b[0m\u001b[0;34m\u001b[0m\u001b[0m\n\u001b[1;32m      2\u001b[0m \u001b[0minv\u001b[0m \u001b[0;34m=\u001b[0m \u001b[0mImage\u001b[0m\u001b[0;34m.\u001b[0m\u001b[0mopen\u001b[0m\u001b[0;34m(\u001b[0m\u001b[0mimg_path\u001b[0m\u001b[0;34m)\u001b[0m\u001b[0;34m\u001b[0m\u001b[0;34m\u001b[0m\u001b[0m\n\u001b[0;32m----> 3\u001b[0;31m \u001b[0mimage_tensor\u001b[0m \u001b[0;34m=\u001b[0m \u001b[0mpreprocess_image\u001b[0m\u001b[0;34m(\u001b[0m\u001b[0minv\u001b[0m\u001b[0;34m)\u001b[0m\u001b[0;34m.\u001b[0m\u001b[0munsqueeze\u001b[0m\u001b[0;34m(\u001b[0m\u001b[0;36m0\u001b[0m\u001b[0;34m)\u001b[0m\u001b[0;34m\u001b[0m\u001b[0;34m\u001b[0m\u001b[0m\n\u001b[0m\u001b[1;32m      4\u001b[0m \u001b[0mlayer_output\u001b[0m \u001b[0;34m=\u001b[0m \u001b[0mmodel\u001b[0m\u001b[0;34m.\u001b[0m\u001b[0mforward_intermediates\u001b[0m\u001b[0;34m(\u001b[0m\u001b[0mimage_tensor\u001b[0m\u001b[0;34m,\u001b[0m \u001b[0mintermediates_only\u001b[0m\u001b[0;34m=\u001b[0m\u001b[0;32mTrue\u001b[0m\u001b[0;34m)\u001b[0m\u001b[0;34m\u001b[0m\u001b[0;34m\u001b[0m\u001b[0m\n",
            "\u001b[0;31mNameError\u001b[0m: name 'preprocess_image' is not defined"
          ]
        }
      ],
      "source": [
        "img_path = '../images/images/inv_up/000100.jpg'\n",
        "inv = Image.open(img_path)\n",
        "image_tensor = preprocess_image(inv).unsqueeze(0)\n",
        "layer_output = model.forward_intermediates(image_tensor, intermediates_only=True)\n"
      ]
    },
    {
      "cell_type": "code",
      "execution_count": null,
      "metadata": {
        "colab": {
          "base_uri": "https://localhost:8080/"
        },
        "id": "FrbrFhqDa5zU",
        "outputId": "a456f8c7-f6bb-4305-b405-033b09b341e0"
      },
      "outputs": [
        {
          "name": "stdout",
          "output_type": "stream",
          "text": [
            "<PIL.JpegImagePlugin.JpegImageFile image mode=RGB size=178x218 at 0x7BFBB6C85B10>\n",
            "<PIL.JpegImagePlugin.JpegImageFile image mode=RGB size=178x218 at 0x7BFBB6C85F90>\n",
            "<PIL.JpegImagePlugin.JpegImageFile image mode=RGB size=178x218 at 0x7BFBB6C84280>\n",
            "<PIL.JpegImagePlugin.JpegImageFile image mode=RGB size=178x218 at 0x7BFBB6C85F90>\n",
            "<PIL.JpegImagePlugin.JpegImageFile image mode=RGB size=178x218 at 0x7BFBB6C85E40>\n",
            "<PIL.JpegImagePlugin.JpegImageFile image mode=RGB size=178x218 at 0x7BFBB6C85F90>\n",
            "<PIL.JpegImagePlugin.JpegImageFile image mode=RGB size=178x218 at 0x7BFBB6C87190>\n",
            "<PIL.JpegImagePlugin.JpegImageFile image mode=RGB size=178x218 at 0x7BFBB6C871C0>\n",
            "<PIL.JpegImagePlugin.JpegImageFile image mode=RGB size=178x218 at 0x7BFBB6C85FF0>\n",
            "<PIL.JpegImagePlugin.JpegImageFile image mode=RGB size=178x218 at 0x7BFBB6C85D80>\n",
            "<PIL.JpegImagePlugin.JpegImageFile image mode=RGB size=178x218 at 0x7BFBB6C85EA0>\n",
            "<PIL.JpegImagePlugin.JpegImageFile image mode=RGB size=178x218 at 0x7BFBC9F834C0>\n",
            "<PIL.JpegImagePlugin.JpegImageFile image mode=RGB size=178x218 at 0x7BFBB6C85AE0>\n",
            "<PIL.JpegImagePlugin.JpegImageFile image mode=RGB size=178x218 at 0x7BFBB6C86050>\n",
            "<PIL.JpegImagePlugin.JpegImageFile image mode=RGB size=178x218 at 0x7BFBB6C841F0>\n",
            "<PIL.JpegImagePlugin.JpegImageFile image mode=RGB size=178x218 at 0x7BFBB6C86050>\n",
            "<PIL.JpegImagePlugin.JpegImageFile image mode=RGB size=178x218 at 0x7BFBB6C85EA0>\n",
            "<PIL.JpegImagePlugin.JpegImageFile image mode=RGB size=178x218 at 0x7BFBB6C85E70>\n",
            "<PIL.JpegImagePlugin.JpegImageFile image mode=RGB size=178x218 at 0x7BFBB6C842B0>\n",
            "<PIL.JpegImagePlugin.JpegImageFile image mode=RGB size=178x218 at 0x7BFBB6C86170>\n"
          ]
        }
      ],
      "source": [
        "import time\n",
        "from PIL import Image\n",
        "import os\n",
        "\n",
        "# Function to preprocess image\n",
        "def preprocess_image(image_path):\n",
        "\n",
        "    transform = transforms.Compose([\n",
        "    transforms.Resize((224, 224)),\n",
        "    transforms.ToTensor(),\n",
        "    transforms.Normalize(mean=[0.485, 0.456, 0.406], std=[0.229, 0.224, 0.225])\n",
        "    ])\n",
        "    image = transform(image_path)\n",
        "    return image\n",
        "\n",
        "\n",
        "def extract_features(model):\n",
        "\n",
        "    inverted_path = '../images/images/inverted_images'\n",
        "    normal_path = '../images/images/normal_images'\n",
        "    nd_path = '../images/images/normal_down'\n",
        "    iu_path = '../images/images/inv_up'\n",
        "    features= []\n",
        "    iter = 0\n",
        "    for filename in os.listdir(inverted_path):\n",
        "      feat = []  # Initialize feat list inside the loop\n",
        "      if filename.endswith('.jpg') or filename.endswith('.png'):\n",
        "          image_path = os.path.join(inverted_path, filename)\n",
        "          inv = Image.open(image_path)\n",
        "          image_path = os.path.join(normal_path, filename)\n",
        "          norm_up = Image.open(image_path)\n",
        "          image_path = os.path.join(nd_path, filename)\n",
        "          norm = Image.open(image_path)\n",
        "          image_path = os.path.join(iu_path, filename)\n",
        "          inv_up = Image.open(image_path)\n",
        "          print(inv_up)\n",
        "          images = [inv, norm, inv_up, norm_up]\n",
        "          for g in images:\n",
        "              image_features = []  # Features for the current image\n",
        "              image_tensor = preprocess_image(g).unsqueeze(0)\n",
        "              layer_output = model.forward_intermediates(image_tensor, intermediates_only=True)\n",
        "              feat.append(layer_output)  # Add features for this image\n",
        "      features.append(feat)\n",
        "      iter+=1\n",
        "      if iter == 20:\n",
        "        break\n",
        "\n",
        "    return features\n",
        "\n",
        "\n",
        "\n",
        "\n",
        "dist_type = 'Euclidean'\n",
        "RC_across_layers = []\n",
        "model = vit\n",
        "features_vit = extract_features(model)"
      ]
    },
    {
      "cell_type": "code",
      "execution_count": null,
      "metadata": {
        "colab": {
          "base_uri": "https://localhost:8080/"
        },
        "id": "vmcxULpigfAn",
        "outputId": "78ed8a66-44a4-4643-e2ff-05dfcec165e8"
      },
      "outputs": [
        {
          "data": {
            "text/plain": [
              "12"
            ]
          },
          "execution_count": 17,
          "metadata": {},
          "output_type": "execute_result"
        }
      ],
      "source": [
        "len(features_vit[0][0])"
      ]
    },
    {
      "cell_type": "code",
      "execution_count": null,
      "metadata": {
        "id": "NczQt85jgI_o"
      },
      "outputs": [],
      "source": [
        "metric_vit = []\n",
        "\n",
        "for i in range(20):\n",
        "    layer = []\n",
        "    for k in range(len(features_vit[0][0])-1):\n",
        "        some = []\n",
        "        for j in range(4):\n",
        "            some.append(features_vit[i][j][k].detach().numpy())  # Detach and convert to NumPy array\n",
        "        d = tatcher(some)\n",
        "        layer.append(d)\n",
        "    metric_vit.append(layer)\n"
      ]
    },
    {
      "cell_type": "code",
      "execution_count": null,
      "metadata": {
        "colab": {
          "base_uri": "https://localhost:8080/"
        },
        "id": "DTbpxLC2gT2j",
        "outputId": "95d28784-550f-4096-aef3-41fda9658ad6"
      },
      "outputs": [
        {
          "name": "stdout",
          "output_type": "stream",
          "text": [
            "[-0.00037067 -0.00017802 -0.00060029 -0.00072773 -0.00318911 -0.00804769\n",
            " -0.01118719 -0.01453453 -0.01593844 -0.01752383 -0.0129679 ]\n"
          ]
        }
      ],
      "source": [
        "metric_vit = np.array(metric_vit)\n",
        "metric_vit = np.mean(metric_vit, axis = 0)\n",
        "print(metric_vit)"
      ]
    },
    {
      "cell_type": "code",
      "execution_count": null,
      "metadata": {
        "colab": {
          "base_uri": "https://localhost:8080/",
          "height": 564
        },
        "id": "Frm2Na1vjdsF",
        "outputId": "309b4340-6ce3-4fd9-9a54-219d6cc823be"
      },
      "outputs": [
        {
          "data": {
            "image/png": "[encoded data removed]",
            "text/plain": [
              "<Figure size 800x600 with 1 Axes>"
            ]
          },
          "metadata": {},
          "output_type": "display_data"
        }
      ],
      "source": [
        "import numpy as np\n",
        "import matplotlib.pyplot as plt\n",
        "\n",
        "\n",
        "# Compute differences between correlation coefficients across layers\n",
        "\n",
        "\n",
        "# Create x-axis values (layers)\n",
        "layers = range(metric_vit.shape[0])\n",
        "\n",
        "# Create figure and axis objects\n",
        "fig, ax = plt.subplots(figsize=(8, 6))\n",
        "\n",
        "# Plot the differences\n",
        "ax.plot(layers, metric_vit, marker='o', linestyle='-', color='b', label='vision transformer')\n",
        "# ax.plot(layers, metric_resnetr, marker='o', linestyle='-', color='r', label='resnet-rand')\n",
        "\n",
        "# Set x-axis labels\n",
        "ax.set_xticks(layers)\n",
        "\n",
        "# Set y-axis range\n",
        "ax.set_ylim(-1, 1)\n",
        "\n",
        "# Draw horizontal line at y=0\n",
        "ax.axhline(0, color='grey', linewidth=0.5)\n",
        "\n",
        "x_ = [0, 8, 8, 0, 0]\n",
        "y_ = [0, 0, 1, 1, 0]\n",
        "# Set axis limits\n",
        "plt.xlim(0, 8)\n",
        "plt.ylim(-1, 1)\n",
        "\n",
        "# Shade entire region above y=0 with grey\n",
        "ax.fill_between(x_, y_, color='grey', alpha=0.3, label='Human Perception Area')\n",
        "\n",
        "# Label axes and title\n",
        "ax.set_xlabel('Layers')\n",
        "ax.set_ylabel('Tatcher Index')\n",
        "ax.set_title('Tatcher Effect in Vision Transformer')\n",
        "\n",
        "# Show legend\n",
        "plt.legend()\n",
        "\n",
        "# Show plot\n",
        "plt.grid(True)\n",
        "plt.show()\n"
      ]
    },
    {
      "cell_type": "markdown",
      "metadata": {
        "id": "QGmzBFp_huDT"
      },
      "source": [
        "# Inception"
      ]
    },
    {
      "cell_type": "code",
      "execution_count": null,
      "metadata": {
        "id": "_2qqnZmkhtxp"
      },
      "outputs": [],
      "source": []
    }
  ],
  "metadata": {
    "accelerator": "GPU",
    "colab": {
      "collapsed_sections": [
        "FRVtzAq2A5wX",
        "4pZ2Q7LDBRRp",
        "0U6KmgfVvXGo",
        "h493E5c-BWEW"
      ],
      "gpuType": "T4",
      "provenance": []
    },
    "kernelspec": {
      "display_name": "Python 3",
      "name": "python3"
    },
    "language_info": {
      "name": "python"
    }
  },
  "nbformat": 4,
  "nbformat_minor": 0
}
