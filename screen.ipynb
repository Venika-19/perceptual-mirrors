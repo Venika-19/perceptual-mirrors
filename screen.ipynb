{
  "nbformat": 4,
  "nbformat_minor": 0,
  "metadata": {
    "colab": {
      "provenance": [],
      "gpuType": "T4"
    },
    "kernelspec": {
      "name": "python3",
      "display_name": "Python 3"
    },
    "language_info": {
      "name": "python"
    },
    "accelerator": "GPU"
  },
  "cells": [
    {
      "cell_type": "code",
      "execution_count": 1,
      "metadata": {
        "colab": {
          "base_uri": "https://localhost:8080/"
        },
        "id": "SmVazdDYwO1P",
        "outputId": "e7dc7249-7769-429b-a483-3fbd735148f7"
      },
      "outputs": [
        {
          "output_type": "stream",
          "name": "stderr",
          "text": [
            "/usr/local/lib/python3.10/dist-packages/torchvision/models/_utils.py:208: UserWarning: The parameter 'pretrained' is deprecated since 0.13 and may be removed in the future, please use 'weights' instead.\n",
            "  warnings.warn(\n",
            "/usr/local/lib/python3.10/dist-packages/torchvision/models/_utils.py:223: UserWarning: Arguments other than a weight enum or `None` for 'weights' are deprecated since 0.13 and may be removed in the future. The current behavior is equivalent to passing `weights=VGG16_Weights.IMAGENET1K_V1`. You can also use `weights=VGG16_Weights.DEFAULT` to get the most up-to-date weights.\n",
            "  warnings.warn(msg)\n",
            "Downloading: \"https://download.pytorch.org/models/vgg16-397923af.pth\" to /root/.cache/torch/hub/checkpoints/vgg16-397923af.pth\n",
            "100%|██████████| 528M/528M [00:09<00:00, 58.1MB/s]\n"
          ]
        },
        {
          "output_type": "stream",
          "name": "stdout",
          "text": [
            "Predicted label: 0.986255943775177\n"
          ]
        }
      ],
      "source": [
        "import torch\n",
        "import torch.nn as nn\n",
        "import torchvision.transforms as transforms\n",
        "from PIL import Image\n",
        "import torchvision.models as models\n",
        "\n",
        "\n",
        "vgg16 = models.vgg16(pretrained=True)\n",
        "vgg16.eval()\n",
        "#vgg16_sl = torch.nn.Sequential(*list(vgg16.features.children())[:1])\n",
        "\n",
        "transform = transforms.Compose([\n",
        "    transforms.Resize((224, 224)),\n",
        "    transforms.ToTensor(),\n",
        "    transforms.Normalize(mean=[0.485, 0.456, 0.406], std=[0.229, 0.224, 0.225])\n",
        "])\n",
        "\n",
        "\n",
        "image_path = '1.jpg'\n",
        "image = Image.open(image_path)\n",
        "image = transform(image)\n",
        "image = image.unsqueeze(0)\n",
        "\n",
        "\n",
        "with torch.no_grad():\n",
        "    outputs = vgg16(image)\n",
        "\n",
        "outputs = nn.functional.softmax(outputs, dim=1)[0]\n",
        "\n",
        "\n",
        "\n",
        "print(\"Predicted label:\", outputs[149].item())"
      ]
    },
    {
      "cell_type": "code",
      "source": [
        "image_path = '2.jpg'\n",
        "image = Image.open(image_path)\n",
        "image = transform(image)\n",
        "image = image.unsqueeze(0)\n",
        "\n",
        "\n",
        "with torch.no_grad():\n",
        "    outputs = vgg16(image)\n",
        "\n",
        "outputs = nn.functional.softmax(outputs, dim=1)[0]\n",
        "\n",
        "\n",
        "\n",
        "print(\"Predicted label:\",outputs[149].item())"
      ],
      "metadata": {
        "colab": {
          "base_uri": "https://localhost:8080/"
        },
        "id": "5CMv1lAazS6T",
        "outputId": "d2aea387-e27c-41d8-b9f1-d984678e6707"
      },
      "execution_count": 2,
      "outputs": [
        {
          "output_type": "stream",
          "name": "stdout",
          "text": [
            "Predicted label: 0.027227165177464485\n"
          ]
        }
      ]
    }
  ]
}