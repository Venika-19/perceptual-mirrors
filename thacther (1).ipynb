{
  "nbformat": 4,
  "nbformat_minor": 0,
  "metadata": {
    "colab": {
      "provenance": [],
      "gpuType": "T4"
    },
    "kernelspec": {
      "name": "python3",
      "display_name": "Python 3"
    },
    "language_info": {
      "name": "python"
    },
    "accelerator": "GPU"
  },
  "cells": [
    {
      "cell_type": "code",
      "execution_count": 28,
      "metadata": {
        "colab": {
          "base_uri": "https://localhost:8080/"
        },
        "id": "2PSHGS6tfdfx",
        "outputId": "151e2b0b-ab07-4480-c18f-42e8785e0b08"
      },
      "outputs": [
        {
          "output_type": "stream",
          "name": "stdout",
          "text": [
            "(1, 64, 224, 224)\n",
            "(1, 64, 224, 224)\n",
            "(1, 64, 224, 224)\n",
            "(1, 64, 224, 224)\n"
          ]
        }
      ],
      "source": [
        "import torch\n",
        "import torch.nn as nn\n",
        "import torchvision.transforms as transforms\n",
        "from PIL import Image\n",
        "import torchvision.models as models\n",
        "\n",
        "\n",
        "vgg16 = models.vgg16(pretrained=True)\n",
        "vgg16.eval()\n",
        "vgg16_sl = torch.nn.Sequential(*list(vgg16.features.children())[:1])  # Keep only the first layer\n",
        "\n",
        "transform = transforms.Compose([\n",
        "    transforms.Resize((224, 224)),\n",
        "    transforms.ToTensor(),\n",
        "    transforms.Normalize(mean=[0.485, 0.456, 0.406], std=[0.229, 0.224, 0.225])\n",
        "])\n",
        "\n",
        "\n",
        "image_path = 'norm.jpg'\n",
        "image = Image.open(image_path)\n",
        "image = transform(image)\n",
        "image = image.unsqueeze(0)\n",
        "\n",
        "\n",
        "with torch.no_grad():\n",
        "    outputs = vgg16_sl(image)\n",
        "\n",
        "print(outputs.numpy().shape)\n",
        "image_path = 'inv.jpg'\n",
        "image = Image.open(image_path)\n",
        "image = transform(image)\n",
        "image = image.unsqueeze(0)\n",
        "\n",
        "\n",
        "with torch.no_grad():\n",
        "    outputs_inv = vgg16_sl(image)\n",
        "\n",
        "print(outputs_inv.numpy().shape)\n",
        "\n",
        "image_path = 'norm_up.jpg'\n",
        "image = Image.open(image_path)\n",
        "image = transform(image)\n",
        "image = image.unsqueeze(0)\n",
        "\n",
        "\n",
        "with torch.no_grad():\n",
        "    outputs_up = vgg16_sl(image)\n",
        "\n",
        "print(outputs.numpy().shape)\n",
        "image_path = 'inv_up.jpg'\n",
        "image = Image.open(image_path)\n",
        "image = transform(image)\n",
        "image = image.unsqueeze(0)\n",
        "\n",
        "\n",
        "with torch.no_grad():\n",
        "    outputs_inv_up = vgg16_sl(image)\n",
        "\n",
        "print(outputs_inv.numpy().shape)\n",
        "\n"
      ]
    },
    {
      "cell_type": "code",
      "source": [
        "import numpy as np\n",
        "dist = np.linalg.norm(outputs - outputs_inv)\n",
        "dist_up = np.linalg.norm(outputs_up - outputs_inv_up)\n",
        "\n",
        "\n",
        "print((dist-dist_up)/(dist+dist_up))\n"
      ],
      "metadata": {
        "colab": {
          "base_uri": "https://localhost:8080/"
        },
        "id": "F7D-TVVhrJrU",
        "outputId": "013cc9c7-4ba0-4235-ac3b-d42f998c61ad"
      },
      "execution_count": 29,
      "outputs": [
        {
          "output_type": "stream",
          "name": "stdout",
          "text": [
            "0.002909352\n"
          ]
        }
      ]
    },
    {
      "cell_type": "code",
      "source": [
        "outputs = nn.functional.softmax(outputs, dim=1)[0]\n",
        "_, predicted = torch.max(outputs, 0)\n",
        "\n",
        "\n",
        "print(\"Predicted label:\", predicted.item(),_.item()"
      ],
      "metadata": {
        "id": "hRSn6sTpp2GU"
      },
      "execution_count": null,
      "outputs": []
    }
  ]
}